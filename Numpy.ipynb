{
 "cells": [
  {
   "cell_type": "markdown",
   "id": "1a54c1b3",
   "metadata": {},
   "source": [
    "# AGENDA\n",
    "* Numpy Revision \n",
    "* Descriptive Statistics With Numpy "
   ]
  },
  {
   "cell_type": "markdown",
   "id": "5fcfb8e3",
   "metadata": {},
   "source": [
    "## Importing Numpy "
   ]
  },
  {
   "cell_type": "code",
   "execution_count": 1,
   "id": "4fcc1086",
   "metadata": {},
   "outputs": [],
   "source": [
    "import numpy as np "
   ]
  },
  {
   "cell_type": "code",
   "execution_count": 2,
   "id": "730890c6",
   "metadata": {},
   "outputs": [],
   "source": [
    "from numpy import *"
   ]
  },
  {
   "cell_type": "markdown",
   "id": "8636e90b",
   "metadata": {},
   "source": [
    "### Why Numpy\n",
    "So far the `numpy.ndarray` looks awefully much like a Python list (or nested list). Why not simply use Python lists for computations instead of creating a new array type? \n",
    "\n",
    "There are several reasons:\n",
    "\n",
    "* Python lists are very general. They can contain any kind of object. They are **dynamically typed**. They do not support mathematical functions such as matrix and dot multiplications, etc. Implementing such functions for Python lists would not be very efficient because of the dynamic typing.\n",
    "* Numpy arrays are **statically typed**. The type of the elements is determined when the array is created.\n",
    "* Numpy arrays are memory efficient.\n",
    "* Because of the static typing, fast implementation of mathematical functions such as multiplication and addition of `numpy` arrays can be implemented in a compiled language (C is used)."
   ]
  },
  {
   "cell_type": "markdown",
   "id": "949af0ce",
   "metadata": {},
   "source": [
    "### Creating numpy array\n",
    "* using list or tuple (manuplate with datatype and dim)\n",
    "* using numpy functions like arange - random - linspace - diag - ones - zeros"
   ]
  },
  {
   "cell_type": "code",
   "execution_count": 3,
   "id": "4a4fe3fb",
   "metadata": {},
   "outputs": [],
   "source": [
    "lst = [1,2,3]"
   ]
  },
  {
   "cell_type": "code",
   "execution_count": 4,
   "id": "ac1c8f0a",
   "metadata": {},
   "outputs": [
    {
     "data": {
      "text/plain": [
       "[1, 2, 3]"
      ]
     },
     "execution_count": 4,
     "metadata": {},
     "output_type": "execute_result"
    }
   ],
   "source": [
    "lst"
   ]
  },
  {
   "cell_type": "code",
   "execution_count": 5,
   "id": "7d42187b",
   "metadata": {},
   "outputs": [
    {
     "data": {
      "text/plain": [
       "list"
      ]
     },
     "execution_count": 5,
     "metadata": {},
     "output_type": "execute_result"
    }
   ],
   "source": [
    "type(lst)"
   ]
  },
  {
   "cell_type": "code",
   "execution_count": 6,
   "id": "3d212791",
   "metadata": {},
   "outputs": [],
   "source": [
    "arr = np.array(lst)"
   ]
  },
  {
   "cell_type": "code",
   "execution_count": 7,
   "id": "1f3bef28",
   "metadata": {},
   "outputs": [
    {
     "data": {
      "text/plain": [
       "array([1, 2, 3])"
      ]
     },
     "execution_count": 7,
     "metadata": {},
     "output_type": "execute_result"
    }
   ],
   "source": [
    "arr"
   ]
  },
  {
   "cell_type": "code",
   "execution_count": 8,
   "id": "6ee22ea8",
   "metadata": {},
   "outputs": [
    {
     "data": {
      "text/plain": [
       "numpy.ndarray"
      ]
     },
     "execution_count": 8,
     "metadata": {},
     "output_type": "execute_result"
    }
   ],
   "source": [
    "type(arr)"
   ]
  },
  {
   "cell_type": "code",
   "execution_count": 9,
   "id": "a921eeeb",
   "metadata": {},
   "outputs": [],
   "source": [
    "tpl = (4,5,6)"
   ]
  },
  {
   "cell_type": "code",
   "execution_count": 10,
   "id": "55534179",
   "metadata": {},
   "outputs": [
    {
     "data": {
      "text/plain": [
       "tuple"
      ]
     },
     "execution_count": 10,
     "metadata": {},
     "output_type": "execute_result"
    }
   ],
   "source": [
    "type(tpl)"
   ]
  },
  {
   "cell_type": "code",
   "execution_count": 11,
   "id": "b41c0a21",
   "metadata": {},
   "outputs": [],
   "source": [
    "tpl_arr = np.array(tpl)"
   ]
  },
  {
   "cell_type": "code",
   "execution_count": 12,
   "id": "bf4ae794",
   "metadata": {},
   "outputs": [
    {
     "data": {
      "text/plain": [
       "array([4, 5, 6])"
      ]
     },
     "execution_count": 12,
     "metadata": {},
     "output_type": "execute_result"
    }
   ],
   "source": [
    "tpl_arr"
   ]
  },
  {
   "cell_type": "code",
   "execution_count": 13,
   "id": "ccf44875",
   "metadata": {},
   "outputs": [
    {
     "data": {
      "text/plain": [
       "4"
      ]
     },
     "execution_count": 13,
     "metadata": {},
     "output_type": "execute_result"
    }
   ],
   "source": [
    "(tpl_arr[0])"
   ]
  },
  {
   "cell_type": "code",
   "execution_count": 14,
   "id": "5fa53a1e",
   "metadata": {},
   "outputs": [
    {
     "data": {
      "text/plain": [
       "numpy.int32"
      ]
     },
     "execution_count": 14,
     "metadata": {},
     "output_type": "execute_result"
    }
   ],
   "source": [
    "type(tpl_arr[0])"
   ]
  },
  {
   "cell_type": "code",
   "execution_count": 15,
   "id": "63602083",
   "metadata": {},
   "outputs": [
    {
     "data": {
      "text/plain": [
       "array([1.4, 2.4, 3.4])"
      ]
     },
     "execution_count": 15,
     "metadata": {},
     "output_type": "execute_result"
    }
   ],
   "source": [
    "np.array([1,2,3] , dtype = float) + 0.4"
   ]
  },
  {
   "cell_type": "code",
   "execution_count": 16,
   "id": "c6c623b1",
   "metadata": {},
   "outputs": [
    {
     "data": {
      "text/plain": [
       "array(['2', '3', '4'], dtype='<U1')"
      ]
     },
     "execution_count": 16,
     "metadata": {},
     "output_type": "execute_result"
    }
   ],
   "source": [
    "np.array([2,3,4] , dtype = str)"
   ]
  },
  {
   "cell_type": "code",
   "execution_count": 17,
   "id": "3c16e3c4",
   "metadata": {},
   "outputs": [],
   "source": [
    "lst = [1,2,3 , 'a']"
   ]
  },
  {
   "cell_type": "code",
   "execution_count": 18,
   "id": "7984ab8d",
   "metadata": {},
   "outputs": [
    {
     "data": {
      "text/plain": [
       "[1, 2, 3, 'a']"
      ]
     },
     "execution_count": 18,
     "metadata": {},
     "output_type": "execute_result"
    }
   ],
   "source": [
    "lst"
   ]
  },
  {
   "cell_type": "code",
   "execution_count": 19,
   "id": "498380dc",
   "metadata": {},
   "outputs": [
    {
     "data": {
      "text/plain": [
       "array(['1', '2', '3', 'a'], dtype='<U11')"
      ]
     },
     "execution_count": 19,
     "metadata": {},
     "output_type": "execute_result"
    }
   ],
   "source": [
    "np.array(lst)"
   ]
  },
  {
   "cell_type": "code",
   "execution_count": 20,
   "id": "a11779ea",
   "metadata": {},
   "outputs": [],
   "source": [
    "lst = [1,2,3,4.4]"
   ]
  },
  {
   "cell_type": "code",
   "execution_count": 21,
   "id": "751118cb",
   "metadata": {},
   "outputs": [
    {
     "data": {
      "text/plain": [
       "array([1. , 2. , 3. , 4.4])"
      ]
     },
     "execution_count": 21,
     "metadata": {},
     "output_type": "execute_result"
    }
   ],
   "source": [
    "np.array(lst)"
   ]
  },
  {
   "cell_type": "code",
   "execution_count": 22,
   "id": "57e0ebbe",
   "metadata": {},
   "outputs": [],
   "source": [
    "lst = [1.2 , 4.3 , 'a']"
   ]
  },
  {
   "cell_type": "code",
   "execution_count": 23,
   "id": "fa73f38e",
   "metadata": {},
   "outputs": [
    {
     "data": {
      "text/plain": [
       "array(['1.2', '4.3', 'a'], dtype='<U32')"
      ]
     },
     "execution_count": 23,
     "metadata": {},
     "output_type": "execute_result"
    }
   ],
   "source": [
    "np.array(lst)"
   ]
  },
  {
   "cell_type": "code",
   "execution_count": 24,
   "id": "891abbde",
   "metadata": {},
   "outputs": [],
   "source": [
    "matt = [\n",
    "    [1,3,23],\n",
    "    [3,4,5],\n",
    "    [5,6,7]\n",
    "]"
   ]
  },
  {
   "cell_type": "code",
   "execution_count": 25,
   "id": "12bb37f2",
   "metadata": {},
   "outputs": [
    {
     "data": {
      "text/plain": [
       "[[1, 3, 23], [3, 4, 5], [5, 6, 7]]"
      ]
     },
     "execution_count": 25,
     "metadata": {},
     "output_type": "execute_result"
    }
   ],
   "source": [
    "matt"
   ]
  },
  {
   "cell_type": "code",
   "execution_count": 26,
   "id": "88175ffe",
   "metadata": {},
   "outputs": [],
   "source": [
    "mat_arr = np.array(matt)"
   ]
  },
  {
   "cell_type": "code",
   "execution_count": 27,
   "id": "223e3a5f",
   "metadata": {},
   "outputs": [
    {
     "data": {
      "text/plain": [
       "array([[ 1,  3, 23],\n",
       "       [ 3,  4,  5],\n",
       "       [ 5,  6,  7]])"
      ]
     },
     "execution_count": 27,
     "metadata": {},
     "output_type": "execute_result"
    }
   ],
   "source": [
    "mat_arr"
   ]
  },
  {
   "cell_type": "code",
   "execution_count": 28,
   "id": "f6a7ec51",
   "metadata": {},
   "outputs": [
    {
     "data": {
      "text/plain": [
       "3"
      ]
     },
     "execution_count": 28,
     "metadata": {},
     "output_type": "execute_result"
    }
   ],
   "source": [
    "len(matt)"
   ]
  },
  {
   "cell_type": "code",
   "execution_count": 29,
   "id": "592910d3",
   "metadata": {},
   "outputs": [
    {
     "data": {
      "text/plain": [
       "2"
      ]
     },
     "execution_count": 29,
     "metadata": {},
     "output_type": "execute_result"
    }
   ],
   "source": [
    "mat_arr.ndim"
   ]
  },
  {
   "cell_type": "code",
   "execution_count": 30,
   "id": "ffc816df",
   "metadata": {},
   "outputs": [
    {
     "data": {
      "text/plain": [
       "1"
      ]
     },
     "execution_count": 30,
     "metadata": {},
     "output_type": "execute_result"
    }
   ],
   "source": [
    "arr.ndim"
   ]
  },
  {
   "cell_type": "markdown",
   "id": "f5d7467b",
   "metadata": {},
   "source": [
    "#### Check type , dtype , shape , size"
   ]
  },
  {
   "cell_type": "code",
   "execution_count": 31,
   "id": "d7aeaa7e",
   "metadata": {},
   "outputs": [
    {
     "data": {
      "text/plain": [
       "(3, 3)"
      ]
     },
     "execution_count": 31,
     "metadata": {},
     "output_type": "execute_result"
    }
   ],
   "source": [
    "mat_arr.shape"
   ]
  },
  {
   "cell_type": "code",
   "execution_count": 32,
   "id": "94fffefb",
   "metadata": {},
   "outputs": [
    {
     "data": {
      "text/plain": [
       "9"
      ]
     },
     "execution_count": 32,
     "metadata": {},
     "output_type": "execute_result"
    }
   ],
   "source": [
    "mat_arr.size"
   ]
  },
  {
   "cell_type": "code",
   "execution_count": 33,
   "id": "f8c59bb3",
   "metadata": {},
   "outputs": [
    {
     "data": {
      "text/plain": [
       "3"
      ]
     },
     "execution_count": 33,
     "metadata": {},
     "output_type": "execute_result"
    }
   ],
   "source": [
    "len(mat_arr)"
   ]
  },
  {
   "cell_type": "code",
   "execution_count": 34,
   "id": "8bb37a22",
   "metadata": {},
   "outputs": [
    {
     "data": {
      "text/plain": [
       "numpy.ndarray"
      ]
     },
     "execution_count": 34,
     "metadata": {},
     "output_type": "execute_result"
    }
   ],
   "source": [
    "type(mat_arr)"
   ]
  },
  {
   "cell_type": "code",
   "execution_count": 35,
   "id": "59066015",
   "metadata": {},
   "outputs": [
    {
     "data": {
      "text/plain": [
       "dtype('int32')"
      ]
     },
     "execution_count": 35,
     "metadata": {},
     "output_type": "execute_result"
    }
   ],
   "source": [
    "mat_arr.dtype"
   ]
  },
  {
   "cell_type": "markdown",
   "id": "e03ecc0f",
   "metadata": {},
   "source": [
    "###### arange"
   ]
  },
  {
   "cell_type": "code",
   "execution_count": 36,
   "id": "14cb3d33",
   "metadata": {},
   "outputs": [
    {
     "data": {
      "text/plain": [
       "[0, 1, 2, 3, 4, 5, 6, 7, 8, 9]"
      ]
     },
     "execution_count": 36,
     "metadata": {},
     "output_type": "execute_result"
    }
   ],
   "source": [
    "list(range(0 , 10))"
   ]
  },
  {
   "cell_type": "code",
   "execution_count": 37,
   "id": "4d086702",
   "metadata": {},
   "outputs": [
    {
     "data": {
      "text/plain": [
       "array([0, 1, 2, 3, 4, 5, 6, 7, 8, 9])"
      ]
     },
     "execution_count": 37,
     "metadata": {},
     "output_type": "execute_result"
    }
   ],
   "source": [
    "np.arange(0 , 10 , 1 , dtype = int)"
   ]
  },
  {
   "cell_type": "code",
   "execution_count": 38,
   "id": "e540f797",
   "metadata": {},
   "outputs": [
    {
     "data": {
      "text/plain": [
       "(10,)"
      ]
     },
     "execution_count": 38,
     "metadata": {},
     "output_type": "execute_result"
    }
   ],
   "source": [
    "np.arange(0 , 10 , 1 , dtype = int).shape"
   ]
  },
  {
   "cell_type": "code",
   "execution_count": 39,
   "id": "949390fd",
   "metadata": {},
   "outputs": [
    {
     "data": {
      "text/plain": [
       "array([[0, 1, 2, 3, 4],\n",
       "       [5, 6, 7, 8, 9]])"
      ]
     },
     "execution_count": 39,
     "metadata": {},
     "output_type": "execute_result"
    }
   ],
   "source": [
    "np.arange(0 , 10 , 1 , dtype = int).reshape(2 , 5)"
   ]
  },
  {
   "cell_type": "code",
   "execution_count": 40,
   "id": "cdaf9ba7",
   "metadata": {},
   "outputs": [
    {
     "data": {
      "text/plain": [
       "array([[0],\n",
       "       [1],\n",
       "       [2],\n",
       "       [3],\n",
       "       [4],\n",
       "       [5],\n",
       "       [6],\n",
       "       [7],\n",
       "       [8],\n",
       "       [9]])"
      ]
     },
     "execution_count": 40,
     "metadata": {},
     "output_type": "execute_result"
    }
   ],
   "source": [
    "np.arange(0 , 10 , 1 , dtype = int).reshape(10 , 1 )"
   ]
  },
  {
   "cell_type": "code",
   "execution_count": 41,
   "id": "38660fb7",
   "metadata": {},
   "outputs": [
    {
     "data": {
      "text/plain": [
       "2"
      ]
     },
     "execution_count": 41,
     "metadata": {},
     "output_type": "execute_result"
    }
   ],
   "source": [
    "np.arange(0 , 10 , 1 , dtype = int).reshape(10 , 1 ).ndim"
   ]
  },
  {
   "cell_type": "code",
   "execution_count": 42,
   "id": "60a5bdea",
   "metadata": {},
   "outputs": [
    {
     "data": {
      "text/plain": [
       "array([[0, 1, 2, 3, 4, 5, 6, 7, 8, 9]])"
      ]
     },
     "execution_count": 42,
     "metadata": {},
     "output_type": "execute_result"
    }
   ],
   "source": [
    "np.arange(0 , 10 , 1 , dtype = int).reshape(1 , 10 )"
   ]
  },
  {
   "cell_type": "code",
   "execution_count": 43,
   "id": "b0494116",
   "metadata": {},
   "outputs": [
    {
     "data": {
      "text/plain": [
       "2"
      ]
     },
     "execution_count": 43,
     "metadata": {},
     "output_type": "execute_result"
    }
   ],
   "source": [
    "np.arange(0 , 10 , 1 , dtype = int).reshape(1 , 10 ).ndim"
   ]
  },
  {
   "cell_type": "markdown",
   "id": "a7d613e6",
   "metadata": {},
   "source": [
    "###### linspace "
   ]
  },
  {
   "cell_type": "code",
   "execution_count": 44,
   "id": "22eb0712",
   "metadata": {},
   "outputs": [
    {
     "data": {
      "text/plain": [
       "array([ 1.        ,  1.18367347,  1.36734694,  1.55102041,  1.73469388,\n",
       "        1.91836735,  2.10204082,  2.28571429,  2.46938776,  2.65306122,\n",
       "        2.83673469,  3.02040816,  3.20408163,  3.3877551 ,  3.57142857,\n",
       "        3.75510204,  3.93877551,  4.12244898,  4.30612245,  4.48979592,\n",
       "        4.67346939,  4.85714286,  5.04081633,  5.2244898 ,  5.40816327,\n",
       "        5.59183673,  5.7755102 ,  5.95918367,  6.14285714,  6.32653061,\n",
       "        6.51020408,  6.69387755,  6.87755102,  7.06122449,  7.24489796,\n",
       "        7.42857143,  7.6122449 ,  7.79591837,  7.97959184,  8.16326531,\n",
       "        8.34693878,  8.53061224,  8.71428571,  8.89795918,  9.08163265,\n",
       "        9.26530612,  9.44897959,  9.63265306,  9.81632653, 10.        ])"
      ]
     },
     "execution_count": 44,
     "metadata": {},
     "output_type": "execute_result"
    }
   ],
   "source": [
    "np.linspace(1 , 10)"
   ]
  },
  {
   "cell_type": "code",
   "execution_count": 45,
   "id": "b3e0f283",
   "metadata": {},
   "outputs": [
    {
     "data": {
      "text/plain": [
       "array([ 1.,  4.,  7., 10.])"
      ]
     },
     "execution_count": 45,
     "metadata": {},
     "output_type": "execute_result"
    }
   ],
   "source": [
    "np.linspace(1 , 10 , 4)   # vector "
   ]
  },
  {
   "cell_type": "code",
   "execution_count": 46,
   "id": "cf689280",
   "metadata": {},
   "outputs": [
    {
     "data": {
      "text/plain": [
       "(4,)"
      ]
     },
     "execution_count": 46,
     "metadata": {},
     "output_type": "execute_result"
    }
   ],
   "source": [
    "np.linspace(1 , 10 , 4).shape"
   ]
  },
  {
   "cell_type": "code",
   "execution_count": 47,
   "id": "b61585b0",
   "metadata": {},
   "outputs": [
    {
     "data": {
      "text/plain": [
       "array([[ 1.,  4.,  7., 10.]])"
      ]
     },
     "execution_count": 47,
     "metadata": {},
     "output_type": "execute_result"
    }
   ],
   "source": [
    "np.linspace(1 , 10 , 4).reshape(1 , 4)  # matrix"
   ]
  },
  {
   "cell_type": "code",
   "execution_count": 48,
   "id": "fd66bf13",
   "metadata": {},
   "outputs": [
    {
     "data": {
      "text/plain": [
       "(1, 4)"
      ]
     },
     "execution_count": 48,
     "metadata": {},
     "output_type": "execute_result"
    }
   ],
   "source": [
    "np.linspace(1 , 10 , 4).reshape(1 , 4).shape"
   ]
  },
  {
   "cell_type": "code",
   "execution_count": 49,
   "id": "b4fb17d2",
   "metadata": {},
   "outputs": [
    {
     "data": {
      "text/plain": [
       "array([[ 1.,  4.],\n",
       "       [ 7., 10.]])"
      ]
     },
     "execution_count": 49,
     "metadata": {},
     "output_type": "execute_result"
    }
   ],
   "source": [
    "np.linspace(1 , 10 , 4).reshape(2 ,2 )"
   ]
  },
  {
   "cell_type": "markdown",
   "id": "f520b174",
   "metadata": {},
   "source": [
    "###### random"
   ]
  },
  {
   "cell_type": "code",
   "execution_count": 50,
   "id": "2802f189",
   "metadata": {},
   "outputs": [
    {
     "data": {
      "text/plain": [
       "array([0.13313111, 0.94701889, 0.27609171, 0.51412441, 0.23055398,\n",
       "       0.31730988, 0.35010922, 0.41858876, 0.52043219, 0.57498392])"
      ]
     },
     "execution_count": 50,
     "metadata": {},
     "output_type": "execute_result"
    }
   ],
   "source": [
    "np.random.random(10)"
   ]
  },
  {
   "cell_type": "code",
   "execution_count": 51,
   "id": "96caeec7",
   "metadata": {},
   "outputs": [
    {
     "data": {
      "text/plain": [
       "array([[0.78660355, 0.35332477, 0.21591756, 0.39935684, 0.80638563,\n",
       "        0.08623735, 0.32221199, 0.22738716, 0.9478296 , 0.46422578],\n",
       "       [0.25610739, 0.76538287, 0.4936387 , 0.22100876, 0.56825412,\n",
       "        0.93945255, 0.56491244, 0.93742939, 0.16755428, 0.14819622],\n",
       "       [0.83256108, 0.40097287, 0.91249709, 0.02244738, 0.01565141,\n",
       "        0.24340115, 0.99132763, 0.91958883, 0.49116152, 0.67480683],\n",
       "       [0.33958864, 0.19024077, 0.3086357 , 0.00105595, 0.66829087,\n",
       "        0.99870364, 0.23930893, 0.51176555, 0.29244173, 0.39542181],\n",
       "       [0.23940573, 0.13738084, 0.61059963, 0.16598463, 0.81579785,\n",
       "        0.6420588 , 0.47179504, 0.42624053, 0.44527956, 0.45861912],\n",
       "       [0.54401103, 0.79096922, 0.10432784, 0.66321295, 0.79465999,\n",
       "        0.36006877, 0.26240539, 0.1852011 , 0.86862822, 0.75000418],\n",
       "       [0.3449614 , 0.22835055, 0.00220223, 0.01771625, 0.77296327,\n",
       "        0.99319057, 0.39127559, 0.73916748, 0.61500842, 0.8021483 ],\n",
       "       [0.32432797, 0.01305439, 0.20736514, 0.7327998 , 0.65638411,\n",
       "        0.37895095, 0.77575057, 0.78673173, 0.38969935, 0.57287898],\n",
       "       [0.81652856, 0.86112457, 0.11631602, 0.56554412, 0.31967728,\n",
       "        0.73380977, 0.06049228, 0.85235704, 0.91760955, 0.01518465],\n",
       "       [0.28137866, 0.71690017, 0.48925287, 0.99249868, 0.55398309,\n",
       "        0.08563685, 0.66839505, 0.86088224, 0.94268449, 0.79195339]])"
      ]
     },
     "execution_count": 51,
     "metadata": {},
     "output_type": "execute_result"
    }
   ],
   "source": [
    "np.random.random(size = (10 , 10))"
   ]
  },
  {
   "cell_type": "code",
   "execution_count": 52,
   "id": "f090c0a1",
   "metadata": {},
   "outputs": [
    {
     "data": {
      "text/plain": [
       "array([0.84197223, 0.501961  , 0.70302516, 0.82600905, 0.44022921,\n",
       "       0.1383266 , 0.75184334, 0.35970228, 0.47358636, 0.82490849])"
      ]
     },
     "execution_count": 52,
     "metadata": {},
     "output_type": "execute_result"
    }
   ],
   "source": [
    "np.random.rand(10)"
   ]
  },
  {
   "cell_type": "code",
   "execution_count": 53,
   "id": "bbb89f0b",
   "metadata": {},
   "outputs": [
    {
     "data": {
      "text/plain": [
       "array([ 0.78094532,  0.63601947, -1.25819534, -0.67671076,  1.98301861,\n",
       "        2.19601776,  0.46688691, -0.44360761, -0.69781529, -0.93512131])"
      ]
     },
     "execution_count": 53,
     "metadata": {},
     "output_type": "execute_result"
    }
   ],
   "source": [
    "np.random.randn(10) # normal dis"
   ]
  },
  {
   "cell_type": "code",
   "execution_count": 54,
   "id": "7252d58b",
   "metadata": {},
   "outputs": [
    {
     "data": {
      "text/plain": [
       "18"
      ]
     },
     "execution_count": 54,
     "metadata": {},
     "output_type": "execute_result"
    }
   ],
   "source": [
    "np.random.randint(10 , 20)"
   ]
  },
  {
   "cell_type": "code",
   "execution_count": 55,
   "id": "24960ba4",
   "metadata": {},
   "outputs": [
    {
     "data": {
      "text/plain": [
       "array([[17, 10, 10, 10, 10],\n",
       "       [18, 19, 16, 18, 18]])"
      ]
     },
     "execution_count": 55,
     "metadata": {},
     "output_type": "execute_result"
    }
   ],
   "source": [
    "np.random.randint(10 , 20 , size = (2,5))"
   ]
  },
  {
   "cell_type": "markdown",
   "id": "ec5472e3",
   "metadata": {},
   "source": [
    "###### diagonal"
   ]
  },
  {
   "cell_type": "code",
   "execution_count": 56,
   "id": "eecb1632",
   "metadata": {},
   "outputs": [
    {
     "data": {
      "text/plain": [
       "array([[1, 0, 0],\n",
       "       [0, 2, 0],\n",
       "       [0, 0, 3]])"
      ]
     },
     "execution_count": 56,
     "metadata": {},
     "output_type": "execute_result"
    }
   ],
   "source": [
    "np.diag([1,2,3])"
   ]
  },
  {
   "cell_type": "code",
   "execution_count": 57,
   "id": "1f4c5abf",
   "metadata": {},
   "outputs": [
    {
     "data": {
      "text/plain": [
       "array([[ 1,  3, 23],\n",
       "       [ 3,  4,  5],\n",
       "       [ 5,  6,  7]])"
      ]
     },
     "execution_count": 57,
     "metadata": {},
     "output_type": "execute_result"
    }
   ],
   "source": [
    "mat_arr"
   ]
  },
  {
   "cell_type": "code",
   "execution_count": 58,
   "id": "ba8b30dd",
   "metadata": {},
   "outputs": [
    {
     "data": {
      "text/plain": [
       "array([1, 4, 7])"
      ]
     },
     "execution_count": 58,
     "metadata": {},
     "output_type": "execute_result"
    }
   ],
   "source": [
    "np.diag(mat_arr)"
   ]
  },
  {
   "cell_type": "code",
   "execution_count": 59,
   "id": "f17808f9",
   "metadata": {},
   "outputs": [
    {
     "data": {
      "text/plain": [
       "[1, 2, 3]"
      ]
     },
     "execution_count": 59,
     "metadata": {},
     "output_type": "execute_result"
    }
   ],
   "source": [
    "lst = [1,2,3]\n",
    "lst"
   ]
  },
  {
   "cell_type": "code",
   "execution_count": 60,
   "id": "357768a2",
   "metadata": {},
   "outputs": [
    {
     "ename": "TypeError",
     "evalue": "can only concatenate list (not \"int\") to list",
     "output_type": "error",
     "traceback": [
      "\u001b[1;31m---------------------------------------------------------------------------\u001b[0m",
      "\u001b[1;31mTypeError\u001b[0m                                 Traceback (most recent call last)",
      "Input \u001b[1;32mIn [60]\u001b[0m, in \u001b[0;36m<cell line: 1>\u001b[1;34m()\u001b[0m\n\u001b[1;32m----> 1\u001b[0m \u001b[43mlst\u001b[49m\u001b[43m \u001b[49m\u001b[38;5;241;43m+\u001b[39;49m\u001b[43m \u001b[49m\u001b[38;5;241;43m3\u001b[39;49m\n",
      "\u001b[1;31mTypeError\u001b[0m: can only concatenate list (not \"int\") to list"
     ]
    }
   ],
   "source": [
    "lst + 3 "
   ]
  },
  {
   "cell_type": "markdown",
   "id": "65fa1871",
   "metadata": {},
   "source": [
    "###### zeros & ones "
   ]
  },
  {
   "cell_type": "code",
   "execution_count": 61,
   "id": "a86b1844",
   "metadata": {},
   "outputs": [
    {
     "data": {
      "text/plain": [
       "array([[0., 0.],\n",
       "       [0., 0.]])"
      ]
     },
     "execution_count": 61,
     "metadata": {},
     "output_type": "execute_result"
    }
   ],
   "source": [
    "np.zeros(shape = (2,2))"
   ]
  },
  {
   "cell_type": "code",
   "execution_count": 62,
   "id": "048bff0b",
   "metadata": {},
   "outputs": [
    {
     "data": {
      "text/plain": [
       "array([[3., 3.],\n",
       "       [3., 3.]])"
      ]
     },
     "execution_count": 62,
     "metadata": {},
     "output_type": "execute_result"
    }
   ],
   "source": [
    "np.zeros(shape = (2,2)) + 3 "
   ]
  },
  {
   "cell_type": "code",
   "execution_count": 63,
   "id": "5bf6a20c",
   "metadata": {},
   "outputs": [
    {
     "data": {
      "text/plain": [
       "array([[1., 1., 1.],\n",
       "       [1., 1., 1.],\n",
       "       [1., 1., 1.]])"
      ]
     },
     "execution_count": 63,
     "metadata": {},
     "output_type": "execute_result"
    }
   ],
   "source": [
    "np.ones(shape = (3,3))"
   ]
  },
  {
   "cell_type": "code",
   "execution_count": 64,
   "id": "92c9cbe1",
   "metadata": {},
   "outputs": [
    {
     "data": {
      "text/plain": [
       "array([[3., 3., 3.],\n",
       "       [3., 3., 3.],\n",
       "       [3., 3., 3.]])"
      ]
     },
     "execution_count": 64,
     "metadata": {},
     "output_type": "execute_result"
    }
   ],
   "source": [
    "np.ones(shape = (3,3)) * 3 "
   ]
  },
  {
   "cell_type": "markdown",
   "id": "79cb833c",
   "metadata": {},
   "source": [
    "### indexing & slicing "
   ]
  },
  {
   "cell_type": "code",
   "execution_count": 65,
   "id": "11a288b3",
   "metadata": {
    "scrolled": true
   },
   "outputs": [
    {
     "data": {
      "text/plain": [
       "array([[  1,   2,   3,   4,   5,   6,   7,   8,   9,  10],\n",
       "       [ 11,  12,  13,  14,  15,  16,  17,  18,  19,  20],\n",
       "       [ 21,  22,  23,  24,  25,  26,  27,  28,  29,  30],\n",
       "       [ 31,  32,  33,  34,  35,  36,  37,  38,  39,  40],\n",
       "       [ 41,  42,  43,  44,  45,  46,  47,  48,  49,  50],\n",
       "       [ 51,  52,  53,  54,  55,  56,  57,  58,  59,  60],\n",
       "       [ 61,  62,  63,  64,  65,  66,  67,  68,  69,  70],\n",
       "       [ 71,  72,  73,  74,  75,  76,  77,  78,  79,  80],\n",
       "       [ 81,  82,  83,  84,  85,  86,  87,  88,  89,  90],\n",
       "       [ 91,  92,  93,  94,  95,  96,  97,  98,  99, 100]])"
      ]
     },
     "execution_count": 65,
     "metadata": {},
     "output_type": "execute_result"
    }
   ],
   "source": [
    "mtrx = np.arange(1 , 101 ).reshape(10 , 10)\n",
    "mtrx"
   ]
  },
  {
   "cell_type": "code",
   "execution_count": 66,
   "id": "500c4e9d",
   "metadata": {},
   "outputs": [
    {
     "data": {
      "text/plain": [
       "array([[  9,  10],\n",
       "       [ 19,  20],\n",
       "       [ 29,  30],\n",
       "       [ 39,  40],\n",
       "       [ 49,  50],\n",
       "       [ 59,  60],\n",
       "       [ 69,  70],\n",
       "       [ 79,  80],\n",
       "       [ 89,  90],\n",
       "       [ 99, 100]])"
      ]
     },
     "execution_count": 66,
     "metadata": {},
     "output_type": "execute_result"
    }
   ],
   "source": [
    "mtrx[ : , -2:]"
   ]
  },
  {
   "cell_type": "code",
   "execution_count": 67,
   "id": "9bd25087",
   "metadata": {},
   "outputs": [
    {
     "data": {
      "text/plain": [
       "array([[ 89,  90],\n",
       "       [ 99, 100]])"
      ]
     },
     "execution_count": 67,
     "metadata": {},
     "output_type": "execute_result"
    }
   ],
   "source": [
    "mtrx[ -2 :  ,  -2: ]"
   ]
  },
  {
   "cell_type": "code",
   "execution_count": 68,
   "id": "81bc2582",
   "metadata": {},
   "outputs": [
    {
     "data": {
      "text/plain": [
       "array([[ 1,  2],\n",
       "       [11, 12]])"
      ]
     },
     "execution_count": 68,
     "metadata": {},
     "output_type": "execute_result"
    }
   ],
   "source": [
    "mtrx[  0 : 2  , 0 : 2   ]"
   ]
  },
  {
   "cell_type": "code",
   "execution_count": 69,
   "id": "8a812ee2",
   "metadata": {},
   "outputs": [
    {
     "data": {
      "text/plain": [
       "1"
      ]
     },
     "execution_count": 69,
     "metadata": {},
     "output_type": "execute_result"
    }
   ],
   "source": [
    "mtrx[0][0]"
   ]
  },
  {
   "cell_type": "code",
   "execution_count": 70,
   "id": "e05d78a6",
   "metadata": {},
   "outputs": [
    {
     "data": {
      "text/plain": [
       "1"
      ]
     },
     "execution_count": 70,
     "metadata": {},
     "output_type": "execute_result"
    }
   ],
   "source": [
    "mtrx[0 , 0]"
   ]
  },
  {
   "cell_type": "code",
   "execution_count": 71,
   "id": "165b6d39",
   "metadata": {},
   "outputs": [
    {
     "data": {
      "text/plain": [
       "4"
      ]
     },
     "execution_count": 71,
     "metadata": {},
     "output_type": "execute_result"
    }
   ],
   "source": [
    "mtrx[ 0 , 3 ]"
   ]
  },
  {
   "cell_type": "code",
   "execution_count": 72,
   "id": "d8604493",
   "metadata": {},
   "outputs": [
    {
     "data": {
      "text/plain": [
       "array([ 1,  2,  3,  4,  5,  6,  7,  8,  9, 10])"
      ]
     },
     "execution_count": 72,
     "metadata": {},
     "output_type": "execute_result"
    }
   ],
   "source": [
    "mtrx[ 0 , : ]"
   ]
  },
  {
   "cell_type": "code",
   "execution_count": 73,
   "id": "76286c66",
   "metadata": {},
   "outputs": [
    {
     "data": {
      "text/plain": [
       "array([[ 1,  2,  3,  4,  5,  6,  7,  8,  9, 10],\n",
       "       [11, 12, 13, 14, 15, 16, 17, 18, 19, 20]])"
      ]
     },
     "execution_count": 73,
     "metadata": {},
     "output_type": "execute_result"
    }
   ],
   "source": [
    "mtrx[ 0 : 2 , : ]"
   ]
  },
  {
   "cell_type": "code",
   "execution_count": 74,
   "id": "2801067f",
   "metadata": {},
   "outputs": [
    {
     "data": {
      "text/plain": [
       "10"
      ]
     },
     "execution_count": 74,
     "metadata": {},
     "output_type": "execute_result"
    }
   ],
   "source": [
    "mtrx[0 , -1]"
   ]
  },
  {
   "cell_type": "code",
   "execution_count": 75,
   "id": "f9ac3150",
   "metadata": {},
   "outputs": [
    {
     "data": {
      "text/plain": [
       "array([ 1,  2,  3,  4,  5,  6,  7,  8,  9, 10])"
      ]
     },
     "execution_count": 75,
     "metadata": {},
     "output_type": "execute_result"
    }
   ],
   "source": [
    "mtrx[0]"
   ]
  },
  {
   "cell_type": "code",
   "execution_count": 76,
   "id": "7018577e",
   "metadata": {},
   "outputs": [
    {
     "data": {
      "text/plain": [
       "array([ 91,  92,  93,  94,  95,  96,  97,  98,  99, 100])"
      ]
     },
     "execution_count": 76,
     "metadata": {},
     "output_type": "execute_result"
    }
   ],
   "source": [
    "mtrx[-1]"
   ]
  },
  {
   "cell_type": "markdown",
   "id": "3dc471da",
   "metadata": {},
   "source": [
    "### fancy indexing "
   ]
  },
  {
   "cell_type": "code",
   "execution_count": 77,
   "id": "a119a27f",
   "metadata": {},
   "outputs": [
    {
     "data": {
      "text/plain": [
       "array([[  1,   2,   3,   4,   5,   6,   7,   8,   9,  10],\n",
       "       [ 11,  12,  13,  14,  15,  16,  17,  18,  19,  20],\n",
       "       [ 21,  22,  23,  24,  25,  26,  27,  28,  29,  30],\n",
       "       [ 31,  32,  33,  34,  35,  36,  37,  38,  39,  40],\n",
       "       [ 41,  42,  43,  44,  45,  46,  47,  48,  49,  50],\n",
       "       [ 51,  52,  53,  54,  55,  56,  57,  58,  59,  60],\n",
       "       [ 61,  62,  63,  64,  65,  66,  67,  68,  69,  70],\n",
       "       [ 71,  72,  73,  74,  75,  76,  77,  78,  79,  80],\n",
       "       [ 81,  82,  83,  84,  85,  86,  87,  88,  89,  90],\n",
       "       [ 91,  92,  93,  94,  95,  96,  97,  98,  99, 100]])"
      ]
     },
     "execution_count": 77,
     "metadata": {},
     "output_type": "execute_result"
    }
   ],
   "source": [
    "mtrx"
   ]
  },
  {
   "cell_type": "code",
   "execution_count": 78,
   "id": "6de9df27",
   "metadata": {},
   "outputs": [
    {
     "data": {
      "text/plain": [
       "10"
      ]
     },
     "execution_count": 78,
     "metadata": {},
     "output_type": "execute_result"
    }
   ],
   "source": [
    "mtrx.shape[0]"
   ]
  },
  {
   "cell_type": "code",
   "execution_count": 79,
   "id": "4488d2e6",
   "metadata": {},
   "outputs": [
    {
     "data": {
      "text/plain": [
       "array([[11, 12, 13, 14, 15, 16, 17, 18, 19, 20],\n",
       "       [21, 22, 23, 24, 25, 26, 27, 28, 29, 30]])"
      ]
     },
     "execution_count": 79,
     "metadata": {},
     "output_type": "execute_result"
    }
   ],
   "source": [
    "mtrx[[1,2] , ]"
   ]
  },
  {
   "cell_type": "code",
   "execution_count": 80,
   "id": "fb66b291",
   "metadata": {},
   "outputs": [
    {
     "data": {
      "text/plain": [
       "array([[ 91,  92,  93,  94,  95,  96,  97,  98,  99, 100],\n",
       "       [  1,   2,   3,   4,   5,   6,   7,   8,   9,  10]])"
      ]
     },
     "execution_count": 80,
     "metadata": {},
     "output_type": "execute_result"
    }
   ],
   "source": [
    "mtrx[[-1 , 0] , ]"
   ]
  },
  {
   "cell_type": "code",
   "execution_count": 81,
   "id": "9d92a4b8",
   "metadata": {},
   "outputs": [
    {
     "data": {
      "text/plain": [
       "[0, 2, 4, 6, 8]"
      ]
     },
     "execution_count": 81,
     "metadata": {},
     "output_type": "execute_result"
    }
   ],
   "source": [
    "nrow = list(range(0 , mtrx.shape[0] , 2) )\n",
    "nrow"
   ]
  },
  {
   "cell_type": "code",
   "execution_count": 82,
   "id": "edcc7937",
   "metadata": {},
   "outputs": [
    {
     "data": {
      "text/plain": [
       "array([[ 1,  2,  3,  4,  5,  6,  7,  8,  9, 10],\n",
       "       [21, 22, 23, 24, 25, 26, 27, 28, 29, 30],\n",
       "       [41, 42, 43, 44, 45, 46, 47, 48, 49, 50],\n",
       "       [61, 62, 63, 64, 65, 66, 67, 68, 69, 70],\n",
       "       [81, 82, 83, 84, 85, 86, 87, 88, 89, 90]])"
      ]
     },
     "execution_count": 82,
     "metadata": {},
     "output_type": "execute_result"
    }
   ],
   "source": [
    "mtrx[nrow , ]"
   ]
  },
  {
   "cell_type": "code",
   "execution_count": 83,
   "id": "73108427",
   "metadata": {},
   "outputs": [
    {
     "data": {
      "text/plain": [
       "array([[ 1,  2,  3,  4,  5,  6,  7,  8,  9, 10],\n",
       "       [21, 22, 23, 24, 25, 26, 27, 28, 29, 30],\n",
       "       [41, 42, 43, 44, 45, 46, 47, 48, 49, 50],\n",
       "       [61, 62, 63, 64, 65, 66, 67, 68, 69, 70],\n",
       "       [81, 82, 83, 84, 85, 86, 87, 88, 89, 90]])"
      ]
     },
     "execution_count": 83,
     "metadata": {},
     "output_type": "execute_result"
    }
   ],
   "source": [
    "mtrx[[i for i in range(0 , mtrx.shape[0]) if i % 2 == 0] , : ]"
   ]
  },
  {
   "cell_type": "code",
   "execution_count": 84,
   "id": "03f95cee",
   "metadata": {},
   "outputs": [
    {
     "data": {
      "text/plain": [
       "array([[ 1,  2,  3,  4,  5,  6,  7,  8,  9, 10],\n",
       "       [21, 22, 23, 24, 25, 26, 27, 28, 29, 30],\n",
       "       [41, 42, 43, 44, 45, 46, 47, 48, 49, 50],\n",
       "       [61, 62, 63, 64, 65, 66, 67, 68, 69, 70],\n",
       "       [81, 82, 83, 84, 85, 86, 87, 88, 89, 90]])"
      ]
     },
     "execution_count": 84,
     "metadata": {},
     "output_type": "execute_result"
    }
   ],
   "source": [
    "mtrx[ :: 2 ]"
   ]
  },
  {
   "cell_type": "code",
   "execution_count": 85,
   "id": "f0790622",
   "metadata": {},
   "outputs": [
    {
     "data": {
      "text/plain": [
       "array([[ 11,  12,  13,  14,  15,  16,  17,  18,  19,  20],\n",
       "       [ 31,  32,  33,  34,  35,  36,  37,  38,  39,  40],\n",
       "       [ 51,  52,  53,  54,  55,  56,  57,  58,  59,  60],\n",
       "       [ 71,  72,  73,  74,  75,  76,  77,  78,  79,  80],\n",
       "       [ 91,  92,  93,  94,  95,  96,  97,  98,  99, 100]])"
      ]
     },
     "execution_count": 85,
     "metadata": {},
     "output_type": "execute_result"
    }
   ],
   "source": [
    "mtrx[ 1:: 2 ]"
   ]
  },
  {
   "cell_type": "markdown",
   "id": "fc06f5fb",
   "metadata": {},
   "source": [
    "## Linear Algebra\n",
    "* We can use the usual arithmetic operators to multiply, add, subtract, and divide arrays with scalar numbers."
   ]
  },
  {
   "cell_type": "code",
   "execution_count": 86,
   "id": "a7f2b398",
   "metadata": {},
   "outputs": [],
   "source": [
    "v = np.array([1,2,3])"
   ]
  },
  {
   "cell_type": "code",
   "execution_count": 87,
   "id": "8e031bcf",
   "metadata": {},
   "outputs": [
    {
     "data": {
      "text/plain": [
       "array([3, 6, 9])"
      ]
     },
     "execution_count": 87,
     "metadata": {},
     "output_type": "execute_result"
    }
   ],
   "source": [
    "v * 3 "
   ]
  },
  {
   "cell_type": "code",
   "execution_count": 88,
   "id": "610dbdb8",
   "metadata": {},
   "outputs": [
    {
     "data": {
      "text/plain": [
       "array([1, 2, 3])"
      ]
     },
     "execution_count": 88,
     "metadata": {},
     "output_type": "execute_result"
    }
   ],
   "source": [
    "v"
   ]
  },
  {
   "cell_type": "code",
   "execution_count": 89,
   "id": "3529946d",
   "metadata": {},
   "outputs": [],
   "source": [
    "lst = [1,2,3]"
   ]
  },
  {
   "cell_type": "code",
   "execution_count": 90,
   "id": "d7339e57",
   "metadata": {},
   "outputs": [
    {
     "data": {
      "text/plain": [
       "[1, 2, 3, 1, 2, 3, 1, 2, 3]"
      ]
     },
     "execution_count": 90,
     "metadata": {},
     "output_type": "execute_result"
    }
   ],
   "source": [
    "lst * 3 "
   ]
  },
  {
   "cell_type": "code",
   "execution_count": 91,
   "id": "c8d639a3",
   "metadata": {},
   "outputs": [
    {
     "data": {
      "text/plain": [
       "[1, 2, 3]"
      ]
     },
     "execution_count": 91,
     "metadata": {},
     "output_type": "execute_result"
    }
   ],
   "source": [
    "lst"
   ]
  },
  {
   "cell_type": "code",
   "execution_count": 93,
   "id": "99bc2507",
   "metadata": {},
   "outputs": [
    {
     "ename": "TypeError",
     "evalue": "can't multiply sequence by non-int of type 'list'",
     "output_type": "error",
     "traceback": [
      "\u001b[1;31m---------------------------------------------------------------------------\u001b[0m",
      "\u001b[1;31mTypeError\u001b[0m                                 Traceback (most recent call last)",
      "Input \u001b[1;32mIn [93]\u001b[0m, in \u001b[0;36m<cell line: 1>\u001b[1;34m()\u001b[0m\n\u001b[1;32m----> 1\u001b[0m \u001b[43mlst\u001b[49m\u001b[43m \u001b[49m\u001b[38;5;241;43m*\u001b[39;49m\u001b[43m \u001b[49m\u001b[43mlst\u001b[49m\n",
      "\u001b[1;31mTypeError\u001b[0m: can't multiply sequence by non-int of type 'list'"
     ]
    }
   ],
   "source": [
    "lst * lst "
   ]
  },
  {
   "cell_type": "code",
   "execution_count": null,
   "id": "7525fc97",
   "metadata": {},
   "outputs": [],
   "source": [
    "v * v"
   ]
  },
  {
   "cell_type": "code",
   "execution_count": null,
   "id": "4345e34e",
   "metadata": {},
   "outputs": [],
   "source": [
    "v + v"
   ]
  },
  {
   "cell_type": "code",
   "execution_count": null,
   "id": "a90568b6",
   "metadata": {},
   "outputs": [],
   "source": [
    "v - v"
   ]
  },
  {
   "cell_type": "code",
   "execution_count": null,
   "id": "81ca23c1",
   "metadata": {},
   "outputs": [],
   "source": [
    "mat = np.array([\n",
    "    [1,2,3],\n",
    "    [2,4,4],\n",
    "    [1,2,3]\n",
    "])"
   ]
  },
  {
   "cell_type": "code",
   "execution_count": null,
   "id": "d024f4d7",
   "metadata": {},
   "outputs": [],
   "source": [
    "mat * 3"
   ]
  },
  {
   "cell_type": "code",
   "execution_count": null,
   "id": "17446cbb",
   "metadata": {},
   "outputs": [],
   "source": [
    "mat + 3 "
   ]
  },
  {
   "cell_type": "code",
   "execution_count": null,
   "id": "4f4521a0",
   "metadata": {},
   "outputs": [],
   "source": [
    "mat * mat"
   ]
  },
  {
   "cell_type": "code",
   "execution_count": null,
   "id": "1f248028",
   "metadata": {},
   "outputs": [],
   "source": [
    "np.dot(mat , mat)"
   ]
  },
  {
   "cell_type": "code",
   "execution_count": null,
   "id": "c466c723",
   "metadata": {},
   "outputs": [],
   "source": []
  },
  {
   "cell_type": "code",
   "execution_count": null,
   "id": "812abbb9",
   "metadata": {},
   "outputs": [],
   "source": []
  },
  {
   "cell_type": "code",
   "execution_count": null,
   "id": "3e9ee7c7",
   "metadata": {},
   "outputs": [],
   "source": []
  },
  {
   "cell_type": "markdown",
   "id": "0cb5c78c",
   "metadata": {},
   "source": [
    "### reshape , casting (astype) , flatten"
   ]
  },
  {
   "cell_type": "code",
   "execution_count": null,
   "id": "3fa6e062",
   "metadata": {},
   "outputs": [],
   "source": [
    "mtrx"
   ]
  },
  {
   "cell_type": "code",
   "execution_count": null,
   "id": "bac4aeb2",
   "metadata": {},
   "outputs": [],
   "source": [
    "mtrx.flatten()"
   ]
  },
  {
   "cell_type": "code",
   "execution_count": null,
   "id": "c1c935d1",
   "metadata": {},
   "outputs": [],
   "source": [
    "mtrx.astype(float)"
   ]
  },
  {
   "cell_type": "code",
   "execution_count": null,
   "id": "02b0f5b9",
   "metadata": {},
   "outputs": [],
   "source": [
    "mtrx = mtrx.astype(str)"
   ]
  },
  {
   "cell_type": "code",
   "execution_count": null,
   "id": "2ff99848",
   "metadata": {},
   "outputs": [],
   "source": [
    "mtrx"
   ]
  },
  {
   "cell_type": "code",
   "execution_count": null,
   "id": "0d6155ec",
   "metadata": {},
   "outputs": [],
   "source": [
    "mtrx.reshape(1 , 100 )"
   ]
  },
  {
   "cell_type": "code",
   "execution_count": null,
   "id": "ee70b3d7",
   "metadata": {},
   "outputs": [],
   "source": []
  },
  {
   "cell_type": "markdown",
   "id": "1af09fb7",
   "metadata": {},
   "source": [
    "### max , min , sum , cumsum , cumprod , prod , mean , median , std , var "
   ]
  },
  {
   "cell_type": "code",
   "execution_count": null,
   "id": "04ae7426",
   "metadata": {},
   "outputs": [],
   "source": [
    "mtrx = mtrx.astype(int)"
   ]
  },
  {
   "cell_type": "code",
   "execution_count": 94,
   "id": "f6a9896e",
   "metadata": {},
   "outputs": [
    {
     "data": {
      "text/plain": [
       "100"
      ]
     },
     "execution_count": 94,
     "metadata": {},
     "output_type": "execute_result"
    }
   ],
   "source": [
    "mtrx.max()"
   ]
  },
  {
   "cell_type": "code",
   "execution_count": 95,
   "id": "086c2050",
   "metadata": {},
   "outputs": [
    {
     "data": {
      "text/plain": [
       "array([[  1,   2,   3,   4,   5,   6,   7,   8,   9,  10],\n",
       "       [ 11,  12,  13,  14,  15,  16,  17,  18,  19,  20],\n",
       "       [ 21,  22,  23,  24,  25,  26,  27,  28,  29,  30],\n",
       "       [ 31,  32,  33,  34,  35,  36,  37,  38,  39,  40],\n",
       "       [ 41,  42,  43,  44,  45,  46,  47,  48,  49,  50],\n",
       "       [ 51,  52,  53,  54,  55,  56,  57,  58,  59,  60],\n",
       "       [ 61,  62,  63,  64,  65,  66,  67,  68,  69,  70],\n",
       "       [ 71,  72,  73,  74,  75,  76,  77,  78,  79,  80],\n",
       "       [ 81,  82,  83,  84,  85,  86,  87,  88,  89,  90],\n",
       "       [ 91,  92,  93,  94,  95,  96,  97,  98,  99, 100]])"
      ]
     },
     "execution_count": 95,
     "metadata": {},
     "output_type": "execute_result"
    }
   ],
   "source": [
    "mtrx"
   ]
  },
  {
   "cell_type": "code",
   "execution_count": 96,
   "id": "b8bd3a11",
   "metadata": {},
   "outputs": [
    {
     "data": {
      "text/plain": [
       "array([ 10,  20,  30,  40,  50,  60,  70,  80,  90, 100])"
      ]
     },
     "execution_count": 96,
     "metadata": {},
     "output_type": "execute_result"
    }
   ],
   "source": [
    "mtrx.max(axis = 1 )"
   ]
  },
  {
   "cell_type": "code",
   "execution_count": 97,
   "id": "f1e506de",
   "metadata": {},
   "outputs": [
    {
     "data": {
      "text/plain": [
       "array([ 91,  92,  93,  94,  95,  96,  97,  98,  99, 100])"
      ]
     },
     "execution_count": 97,
     "metadata": {},
     "output_type": "execute_result"
    }
   ],
   "source": [
    "mtrx.max(axis = 0)"
   ]
  },
  {
   "cell_type": "code",
   "execution_count": 98,
   "id": "cec100e3",
   "metadata": {},
   "outputs": [
    {
     "data": {
      "text/plain": [
       "5050"
      ]
     },
     "execution_count": 98,
     "metadata": {},
     "output_type": "execute_result"
    }
   ],
   "source": [
    "mtrx.sum()"
   ]
  },
  {
   "cell_type": "code",
   "execution_count": 99,
   "id": "54964e30",
   "metadata": {},
   "outputs": [
    {
     "data": {
      "text/plain": [
       "array([ 55, 155, 255, 355, 455, 555, 655, 755, 855, 955])"
      ]
     },
     "execution_count": 99,
     "metadata": {},
     "output_type": "execute_result"
    }
   ],
   "source": [
    "mtrx.sum(axis = 1 )"
   ]
  },
  {
   "cell_type": "code",
   "execution_count": 100,
   "id": "2da1cd29",
   "metadata": {},
   "outputs": [
    {
     "data": {
      "text/plain": [
       "array([460, 470, 480, 490, 500, 510, 520, 530, 540, 550])"
      ]
     },
     "execution_count": 100,
     "metadata": {},
     "output_type": "execute_result"
    }
   ],
   "source": [
    "mtrx.sum(axis = 0)"
   ]
  },
  {
   "cell_type": "code",
   "execution_count": 101,
   "id": "54acfd0c",
   "metadata": {},
   "outputs": [
    {
     "data": {
      "text/plain": [
       "array([[  1,   2,   3,   4,   5,   6,   7,   8,   9,  10],\n",
       "       [ 11,  12,  13,  14,  15,  16,  17,  18,  19,  20],\n",
       "       [ 21,  22,  23,  24,  25,  26,  27,  28,  29,  30],\n",
       "       [ 31,  32,  33,  34,  35,  36,  37,  38,  39,  40],\n",
       "       [ 41,  42,  43,  44,  45,  46,  47,  48,  49,  50],\n",
       "       [ 51,  52,  53,  54,  55,  56,  57,  58,  59,  60],\n",
       "       [ 61,  62,  63,  64,  65,  66,  67,  68,  69,  70],\n",
       "       [ 71,  72,  73,  74,  75,  76,  77,  78,  79,  80],\n",
       "       [ 81,  82,  83,  84,  85,  86,  87,  88,  89,  90],\n",
       "       [ 91,  92,  93,  94,  95,  96,  97,  98,  99, 100]])"
      ]
     },
     "execution_count": 101,
     "metadata": {},
     "output_type": "execute_result"
    }
   ],
   "source": [
    "mtrx"
   ]
  },
  {
   "cell_type": "code",
   "execution_count": 102,
   "id": "14261ab4",
   "metadata": {},
   "outputs": [
    {
     "data": {
      "text/plain": [
       "array([   1,    3,    6,   10,   15,   21,   28,   36,   45,   55,   66,\n",
       "         78,   91,  105,  120,  136,  153,  171,  190,  210,  231,  253,\n",
       "        276,  300,  325,  351,  378,  406,  435,  465,  496,  528,  561,\n",
       "        595,  630,  666,  703,  741,  780,  820,  861,  903,  946,  990,\n",
       "       1035, 1081, 1128, 1176, 1225, 1275, 1326, 1378, 1431, 1485, 1540,\n",
       "       1596, 1653, 1711, 1770, 1830, 1891, 1953, 2016, 2080, 2145, 2211,\n",
       "       2278, 2346, 2415, 2485, 2556, 2628, 2701, 2775, 2850, 2926, 3003,\n",
       "       3081, 3160, 3240, 3321, 3403, 3486, 3570, 3655, 3741, 3828, 3916,\n",
       "       4005, 4095, 4186, 4278, 4371, 4465, 4560, 4656, 4753, 4851, 4950,\n",
       "       5050], dtype=int32)"
      ]
     },
     "execution_count": 102,
     "metadata": {},
     "output_type": "execute_result"
    }
   ],
   "source": [
    "mtrx.cumsum()"
   ]
  },
  {
   "cell_type": "code",
   "execution_count": 103,
   "id": "1d21a4fc",
   "metadata": {},
   "outputs": [
    {
     "data": {
      "text/plain": [
       "array([[  1,   3,   6,  10,  15,  21,  28,  36,  45,  55],\n",
       "       [ 11,  23,  36,  50,  65,  81,  98, 116, 135, 155],\n",
       "       [ 21,  43,  66,  90, 115, 141, 168, 196, 225, 255],\n",
       "       [ 31,  63,  96, 130, 165, 201, 238, 276, 315, 355],\n",
       "       [ 41,  83, 126, 170, 215, 261, 308, 356, 405, 455],\n",
       "       [ 51, 103, 156, 210, 265, 321, 378, 436, 495, 555],\n",
       "       [ 61, 123, 186, 250, 315, 381, 448, 516, 585, 655],\n",
       "       [ 71, 143, 216, 290, 365, 441, 518, 596, 675, 755],\n",
       "       [ 81, 163, 246, 330, 415, 501, 588, 676, 765, 855],\n",
       "       [ 91, 183, 276, 370, 465, 561, 658, 756, 855, 955]], dtype=int32)"
      ]
     },
     "execution_count": 103,
     "metadata": {},
     "output_type": "execute_result"
    }
   ],
   "source": [
    "mtrx.cumsum(axis = 1 )"
   ]
  },
  {
   "cell_type": "code",
   "execution_count": 104,
   "id": "3e618bc3",
   "metadata": {},
   "outputs": [
    {
     "data": {
      "text/plain": [
       "50.5"
      ]
     },
     "execution_count": 104,
     "metadata": {},
     "output_type": "execute_result"
    }
   ],
   "source": [
    "mtrx.mean()"
   ]
  },
  {
   "cell_type": "code",
   "execution_count": 105,
   "id": "d84730cb",
   "metadata": {},
   "outputs": [
    {
     "data": {
      "text/plain": [
       "array([ 5.5, 15.5, 25.5, 35.5, 45.5, 55.5, 65.5, 75.5, 85.5, 95.5])"
      ]
     },
     "execution_count": 105,
     "metadata": {},
     "output_type": "execute_result"
    }
   ],
   "source": [
    "mtrx.mean(axis = 1 )"
   ]
  },
  {
   "cell_type": "code",
   "execution_count": null,
   "id": "7ee23b1d",
   "metadata": {},
   "outputs": [],
   "source": []
  },
  {
   "cell_type": "markdown",
   "id": "7bca59af",
   "metadata": {},
   "source": [
    "## Descriptive Statistics Assignment \n",
    "* Measures of central tendency: mean, median, and mode\n",
    "* Measures of Dispersion or Variation : range, Interquartile range,variance , Quartile and standard deviation , correlation"
   ]
  },
  {
   "cell_type": "markdown",
   "id": "f4ca8c3e",
   "metadata": {},
   "source": [
    "#### Read Data using numpy \n",
    "* load - save data .npy"
   ]
  },
  {
   "cell_type": "code",
   "execution_count": 2,
   "id": "9c5c3e7b",
   "metadata": {},
   "outputs": [],
   "source": [
    "matrix = np.random.randint(10 , 100 , (10,10))"
   ]
  },
  {
   "cell_type": "code",
   "execution_count": 5,
   "id": "184f074d",
   "metadata": {},
   "outputs": [
    {
     "data": {
      "text/plain": [
       "array([[28, 30, 79, 90, 90, 71, 68, 72, 79, 91],\n",
       "       [33, 15, 46, 87, 66, 16, 86, 63, 56, 40],\n",
       "       [45, 58, 90, 10, 36, 38, 88, 89, 96, 83],\n",
       "       [71, 19, 92, 35, 21, 84, 27, 32, 71, 51],\n",
       "       [23, 58, 58, 83, 82, 93, 45, 64, 79, 77],\n",
       "       [81, 60, 13, 77, 57, 11, 50, 70, 11, 82],\n",
       "       [85, 89, 62, 29, 19, 81, 10, 14, 64, 77],\n",
       "       [94, 16, 55, 11, 71, 45, 43, 30, 98, 39],\n",
       "       [76, 97, 60, 24, 45, 68, 57, 53, 21, 59],\n",
       "       [34, 35, 61, 35, 22, 38, 75, 40, 35, 43]])"
      ]
     },
     "execution_count": 5,
     "metadata": {},
     "output_type": "execute_result"
    }
   ],
   "source": [
    "matrix"
   ]
  },
  {
   "cell_type": "code",
   "execution_count": 1,
   "id": "1dfbaf74",
   "metadata": {},
   "outputs": [],
   "source": [
    "import numpy as np "
   ]
  },
  {
   "cell_type": "code",
   "execution_count": 6,
   "id": "391d2d54",
   "metadata": {},
   "outputs": [],
   "source": [
    "np.save('matrix.npy' , matrix)"
   ]
  },
  {
   "cell_type": "code",
   "execution_count": 4,
   "id": "727b9730",
   "metadata": {},
   "outputs": [
    {
     "data": {
      "text/plain": [
       "array([[28, 30, 79, 90, 90, 71, 68, 72, 79, 91],\n",
       "       [33, 15, 46, 87, 66, 16, 86, 63, 56, 40],\n",
       "       [45, 58, 90, 10, 36, 38, 88, 89, 96, 83],\n",
       "       [71, 19, 92, 35, 21, 84, 27, 32, 71, 51],\n",
       "       [23, 58, 58, 83, 82, 93, 45, 64, 79, 77],\n",
       "       [81, 60, 13, 77, 57, 11, 50, 70, 11, 82],\n",
       "       [85, 89, 62, 29, 19, 81, 10, 14, 64, 77],\n",
       "       [94, 16, 55, 11, 71, 45, 43, 30, 98, 39],\n",
       "       [76, 97, 60, 24, 45, 68, 57, 53, 21, 59],\n",
       "       [34, 35, 61, 35, 22, 38, 75, 40, 35, 43]])"
      ]
     },
     "execution_count": 4,
     "metadata": {},
     "output_type": "execute_result"
    }
   ],
   "source": [
    "np.load('matrix.npy')"
   ]
  },
  {
   "cell_type": "code",
   "execution_count": null,
   "id": "ae3b806b",
   "metadata": {},
   "outputs": [],
   "source": []
  },
  {
   "cell_type": "markdown",
   "id": "ae87823b",
   "metadata": {},
   "source": [
    "###### mean"
   ]
  },
  {
   "cell_type": "code",
   "execution_count": null,
   "id": "9355afca",
   "metadata": {},
   "outputs": [],
   "source": []
  },
  {
   "cell_type": "markdown",
   "id": "148939cc",
   "metadata": {},
   "source": [
    "###### median"
   ]
  },
  {
   "cell_type": "code",
   "execution_count": null,
   "id": "fdeceaa4",
   "metadata": {},
   "outputs": [],
   "source": []
  },
  {
   "cell_type": "markdown",
   "id": "3d2348ee",
   "metadata": {},
   "source": [
    "###### Mode"
   ]
  },
  {
   "cell_type": "code",
   "execution_count": null,
   "id": "423c183f",
   "metadata": {},
   "outputs": [],
   "source": []
  },
  {
   "cell_type": "code",
   "execution_count": null,
   "id": "fa98910f",
   "metadata": {},
   "outputs": [],
   "source": []
  },
  {
   "cell_type": "markdown",
   "id": "fb635983",
   "metadata": {},
   "source": [
    "###### range, Interquartile range,variance , Quartile and standard deviation , correlation"
   ]
  },
  {
   "cell_type": "code",
   "execution_count": null,
   "id": "3d335d48",
   "metadata": {},
   "outputs": [],
   "source": []
  }
 ],
 "metadata": {
  "kernelspec": {
   "display_name": "Python 3 (ipykernel)",
   "language": "python",
   "name": "python3"
  },
  "language_info": {
   "codemirror_mode": {
    "name": "ipython",
    "version": 3
   },
   "file_extension": ".py",
   "mimetype": "text/x-python",
   "name": "python",
   "nbconvert_exporter": "python",
   "pygments_lexer": "ipython3",
   "version": "3.10.4"
  }
 },
 "nbformat": 4,
 "nbformat_minor": 5
}
