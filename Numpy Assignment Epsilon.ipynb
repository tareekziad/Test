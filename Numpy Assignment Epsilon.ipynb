{
 "cells": [
  {
   "cell_type": "markdown",
   "id": "eeaeccc5",
   "metadata": {
    "id": "eeaeccc5"
   },
   "source": [
    "![image.png](attachment:image.png)"
   ]
  },
  {
   "cell_type": "markdown",
   "id": "22e31e01",
   "metadata": {
    "id": "22e31e01"
   },
   "source": [
    "# Numpy"
   ]
  },
  {
   "cell_type": "markdown",
   "id": "180e4a24",
   "metadata": {
    "id": "180e4a24"
   },
   "source": [
    "Numpy is THE library for scientific computing and linear algebra in Python's community and was designed to give users the best of both worlds in programming languages: the speed of `C` language with the readability and elegance of `Python`."
   ]
  },
  {
   "cell_type": "markdown",
   "id": "fbc83262",
   "metadata": {
    "id": "fbc83262"
   },
   "source": [
    "### Why Numpy?\n",
    "A question arises that why do we need NumPy when python lists are already there. The answer to it is we cannot perform operations on all the elements of two list directly. For example we cannot multiply two lists directly we will have to do it element wise. This is where the role of NumPy comes into play."
   ]
  },
  {
   "cell_type": "code",
   "execution_count": 26,
   "id": "1449a0e7",
   "metadata": {
    "id": "1449a0e7"
   },
   "outputs": [],
   "source": [
    "from numpy import *\n",
    "import numpy as np"
   ]
  },
  {
   "cell_type": "markdown",
   "id": "b6c43581",
   "metadata": {
    "id": "b6c43581"
   },
   "source": [
    "Very quick speed comparison to show the staggering difference in performance, don't bother about the code in the following cell."
   ]
  },
  {
   "cell_type": "code",
   "execution_count": 27,
   "id": "582e5306",
   "metadata": {
    "id": "582e5306"
   },
   "outputs": [],
   "source": [
    "import numpy as np\n",
    "import time\n",
    "import gc # garbage collection\n",
    "import sys\n",
    "\n",
    "\n",
    "def compare_times(f1, f2, setup1=None, setup2=None, runs=30):\n",
    "    print('    format: mean seconds (standard error)', runs, 'runs')\n",
    "    maxpad = max(len(f.__name__) for f in (f1, f2))\n",
    "    means = []\n",
    "    for setup, f in [[setup1, f1], [setup2, f2]]:\n",
    "        setup = (lambda: tuple()) if setup is None else setup\n",
    "        \n",
    "        total_times = []\n",
    "        for _ in range(runs):\n",
    "            try:\n",
    "                gc.disable()\n",
    "                args = setup()\n",
    "                \n",
    "                start = time.time()\n",
    "                if isinstance(args, tuple):\n",
    "                    f(*args)\n",
    "                else:\n",
    "                    f(args)\n",
    "                end = time.time()\n",
    "                \n",
    "                total_times.append(end - start)\n",
    "            finally:\n",
    "                gc.enable()\n",
    "                \n",
    "        mean = np.mean(total_times)\n",
    "        se = np.std(total_times) / np.sqrt(len(total_times))\n",
    "        print('    {} {:.2e} ({:.2e})'.format(f.__name__.ljust(maxpad), mean, se))\n",
    "        means.append(mean)\n",
    "    print('    improvement ratio {:.1f}'.format(means[0] / means[1]))"
   ]
  },
  {
   "cell_type": "code",
   "execution_count": 28,
   "id": "40ed697e",
   "metadata": {
    "id": "40ed697e",
    "outputId": "8930ec45-76f0-45ab-9e2a-3066725fc56d",
    "scrolled": true
   },
   "outputs": [
    {
     "name": "stdout",
     "output_type": "stream",
     "text": [
      "create a list 1, 2, ... 10000000\n",
      "    format: mean seconds (standard error) 30 runs\n",
      "    create_list  4.04e-01 (2.19e-02)\n",
      "    create_array 1.92e-02 (1.14e-03)\n",
      "    improvement ratio 21.0\n"
     ]
    }
   ],
   "source": [
    "size = 10 ** 7 \n",
    "print('create a list 1, 2, ...', size)\n",
    "\n",
    "\n",
    "def create_list(): return list(range(size))\n",
    "def create_array(): return np.arange(size, dtype=int)\n",
    "\n",
    "compare_times(create_list, create_array)"
   ]
  },
  {
   "cell_type": "code",
   "execution_count": 29,
   "id": "5d81b28b",
   "metadata": {
    "colab": {
     "base_uri": "https://localhost:8080/"
    },
    "executionInfo": {
     "elapsed": 5321,
     "status": "ok",
     "timestamp": 1650443715902,
     "user": {
      "displayName": "karim hamdy",
      "userId": "11289720334155720749"
     },
     "user_tz": -120
    },
    "id": "5d81b28b",
    "outputId": "1626bee9-e926-468a-cdaf-c513b5d79375"
   },
   "outputs": [
    {
     "name": "stdout",
     "output_type": "stream",
     "text": [
      "2499730.9203768764\n",
      "Verctorize  : 1312.0841979980469ms\n",
      "2499730.9203765444\n",
      "Loop version  : 6767.758131027222ms\n",
      "Vectorization is faster by 5.158021216438197 times\n"
     ]
    }
   ],
   "source": [
    "import time\n",
    "num = 10000000\n",
    "a = np.random.random(num)\n",
    "b = np.random.random(num)\n",
    "\n",
    "star = time.time()\n",
    "c = np.dot(a,b)\n",
    "en = time.time()\n",
    "print(c)\n",
    "print(\"Verctorize  : \" +  str((en -star)*1000) + 'ms')\n",
    "\n",
    "d =0\n",
    "start = time.time()\n",
    "for i in range(num):\n",
    "    d += a[i]*b[i]\n",
    "end = time.time()\n",
    "\n",
    "print(d)\n",
    "print(\"Loop version  : \" +  str((end -start)*1000) + 'ms')\n",
    "print(\"Vectorization is faster by\" , (end -start)/(en -star) , 'times')"
   ]
  },
  {
   "cell_type": "markdown",
   "id": "26313cc1",
   "metadata": {
    "id": "26313cc1"
   },
   "source": [
    "### Convinced about numpy powers? ... Now, let's practice!"
   ]
  },
  {
   "cell_type": "code",
   "execution_count": 1,
   "id": "3d88ae69",
   "metadata": {},
   "outputs": [],
   "source": [
    "import numpy as np"
   ]
  },
  {
   "cell_type": "markdown",
   "id": "728ee6e8",
   "metadata": {
    "executionInfo": {
     "elapsed": 13,
     "status": "ok",
     "timestamp": 1650533641180,
     "user": {
      "displayName": "karim hamdy",
      "userId": "11289720334155720749"
     },
     "user_tz": -120
    },
    "id": "9118500d"
   },
   "source": [
    "#### Q1: Create a 1D array of numbers from 0 to 9.\n"
   ]
  },
  {
   "cell_type": "code",
   "execution_count": 2,
   "id": "879af9f4",
   "metadata": {},
   "outputs": [],
   "source": [
    "arr = np.array([i for i in range(10)])"
   ]
  },
  {
   "cell_type": "code",
   "execution_count": 3,
   "id": "e3f83c30",
   "metadata": {},
   "outputs": [
    {
     "data": {
      "text/plain": [
       "array([0, 1, 2, 3, 4, 5, 6, 7, 8, 9])"
      ]
     },
     "execution_count": 3,
     "metadata": {},
     "output_type": "execute_result"
    }
   ],
   "source": [
    "arr"
   ]
  },
  {
   "cell_type": "code",
   "execution_count": 4,
   "id": "e8691c36",
   "metadata": {},
   "outputs": [
    {
     "data": {
      "text/plain": [
       "array([0, 1, 2, 3, 4, 5, 6, 7, 8, 9])"
      ]
     },
     "execution_count": 4,
     "metadata": {},
     "output_type": "execute_result"
    }
   ],
   "source": [
    "np.arange(0 , 10)"
   ]
  },
  {
   "cell_type": "markdown",
   "id": "df88002e",
   "metadata": {
    "id": "66e14827",
    "outputId": "2d774aee-c0c4-41fa-cab3-3222c9b946ae"
   },
   "source": [
    "#### Q2: Extract all odd numbers from arr.\n"
   ]
  },
  {
   "cell_type": "code",
   "execution_count": 6,
   "id": "5f8678dc",
   "metadata": {},
   "outputs": [
    {
     "data": {
      "text/plain": [
       "array([1, 3, 5, 7, 9])"
      ]
     },
     "execution_count": 6,
     "metadata": {},
     "output_type": "execute_result"
    }
   ],
   "source": [
    "np.arange(1 , 10 , 2)"
   ]
  },
  {
   "cell_type": "code",
   "execution_count": 7,
   "id": "88d72751",
   "metadata": {},
   "outputs": [
    {
     "data": {
      "text/plain": [
       "array([1, 3, 5, 7, 9])"
      ]
     },
     "execution_count": 7,
     "metadata": {},
     "output_type": "execute_result"
    }
   ],
   "source": [
    "arr[arr%2 !=0 ]"
   ]
  },
  {
   "cell_type": "code",
   "execution_count": 9,
   "id": "6272bab3",
   "metadata": {},
   "outputs": [
    {
     "data": {
      "text/plain": [
       "array([1, 3, 5, 7, 9])"
      ]
     },
     "execution_count": 9,
     "metadata": {},
     "output_type": "execute_result"
    }
   ],
   "source": [
    "arr[arr%2 == 1 ]"
   ]
  },
  {
   "cell_type": "code",
   "execution_count": 8,
   "id": "542d719c",
   "metadata": {},
   "outputs": [
    {
     "data": {
      "text/plain": [
       "array([4, 5, 6, 7, 8, 9])"
      ]
     },
     "execution_count": 8,
     "metadata": {},
     "output_type": "execute_result"
    }
   ],
   "source": [
    "arr[arr > 3]"
   ]
  },
  {
   "cell_type": "markdown",
   "id": "80d71e7b",
   "metadata": {
    "id": "e7109f7c",
    "outputId": "3dcf10dd-74ce-4e97-af9e-a6a113fa5325",
    "scrolled": true
   },
   "source": [
    "#### Q3: Replace all odd numbers in arr with -1.\n"
   ]
  },
  {
   "cell_type": "code",
   "execution_count": 10,
   "id": "67166164",
   "metadata": {},
   "outputs": [],
   "source": [
    "arr[arr %2 == 1 ] = -1"
   ]
  },
  {
   "cell_type": "code",
   "execution_count": 12,
   "id": "cf73ea06",
   "metadata": {},
   "outputs": [
    {
     "data": {
      "text/plain": [
       "array([ 0, -1,  2, -1,  4, -1,  6, -1,  8, -1])"
      ]
     },
     "execution_count": 12,
     "metadata": {},
     "output_type": "execute_result"
    }
   ],
   "source": [
    "arr"
   ]
  },
  {
   "cell_type": "markdown",
   "id": "0ff13c21",
   "metadata": {
    "id": "000a0b32",
    "outputId": "c433746f-d447-4cf4-a644-f7783f82ef99"
   },
   "source": [
    "#### Q4: Convert a 1D array of length 10 to a 2D array with 2 rows\n"
   ]
  },
  {
   "cell_type": "code",
   "execution_count": 13,
   "id": "f325309d",
   "metadata": {},
   "outputs": [
    {
     "data": {
      "text/plain": [
       "array([ 0, -1,  2, -1,  4, -1,  6, -1,  8, -1])"
      ]
     },
     "execution_count": 13,
     "metadata": {},
     "output_type": "execute_result"
    }
   ],
   "source": [
    "arr"
   ]
  },
  {
   "cell_type": "code",
   "execution_count": 14,
   "id": "4628ba42",
   "metadata": {},
   "outputs": [
    {
     "data": {
      "text/plain": [
       "array([[ 0, -1,  2, -1,  4],\n",
       "       [-1,  6, -1,  8, -1]])"
      ]
     },
     "execution_count": 14,
     "metadata": {},
     "output_type": "execute_result"
    }
   ],
   "source": [
    "arr.reshape(2 , 5)"
   ]
  },
  {
   "cell_type": "code",
   "execution_count": 17,
   "id": "8ef2a857",
   "metadata": {},
   "outputs": [
    {
     "data": {
      "text/plain": [
       "array([[ 0, -1,  2, -1,  4, -1,  6, -1,  8, -1]])"
      ]
     },
     "execution_count": 17,
     "metadata": {},
     "output_type": "execute_result"
    }
   ],
   "source": [
    "arr.reshape(1 ,10)"
   ]
  },
  {
   "cell_type": "code",
   "execution_count": 18,
   "id": "9a994755",
   "metadata": {},
   "outputs": [
    {
     "data": {
      "text/plain": [
       "array([[ 0],\n",
       "       [-1],\n",
       "       [ 2],\n",
       "       [-1],\n",
       "       [ 4],\n",
       "       [-1],\n",
       "       [ 6],\n",
       "       [-1],\n",
       "       [ 8],\n",
       "       [-1]])"
      ]
     },
     "execution_count": 18,
     "metadata": {},
     "output_type": "execute_result"
    }
   ],
   "source": [
    "arr.reshape(10 , 1)"
   ]
  },
  {
   "cell_type": "code",
   "execution_count": 20,
   "id": "57462da3",
   "metadata": {},
   "outputs": [
    {
     "data": {
      "text/plain": [
       "array([[ 0, -1],\n",
       "       [ 2, -1],\n",
       "       [ 4, -1],\n",
       "       [ 6, -1],\n",
       "       [ 8, -1]])"
      ]
     },
     "execution_count": 20,
     "metadata": {},
     "output_type": "execute_result"
    }
   ],
   "source": [
    "arr.reshape(5 , 2)"
   ]
  },
  {
   "cell_type": "markdown",
   "id": "dea88c8f",
   "metadata": {
    "id": "3bd85240",
    "outputId": "a65b17fe-39ec-4d6d-bc5c-0d3d586c61c7"
   },
   "source": [
    "#### Q5: compute the square root for each element in the  array\n",
    "#### ([[1, 2, 3],[2, 3, 4],[4, 5, 6]])\n"
   ]
  },
  {
   "cell_type": "code",
   "execution_count": 22,
   "id": "c4279e54",
   "metadata": {},
   "outputs": [],
   "source": [
    "lst = [\n",
    "    [1, 2, 3],\n",
    "    [2, 3, 4],\n",
    "    [4, 5, 6]\n",
    "]"
   ]
  },
  {
   "cell_type": "code",
   "execution_count": 23,
   "id": "0a773b4a",
   "metadata": {},
   "outputs": [],
   "source": [
    "mtrix = np.array(lst)"
   ]
  },
  {
   "cell_type": "code",
   "execution_count": 24,
   "id": "4f9edfa7",
   "metadata": {},
   "outputs": [
    {
     "data": {
      "text/plain": [
       "array([[1, 2, 3],\n",
       "       [2, 3, 4],\n",
       "       [4, 5, 6]])"
      ]
     },
     "execution_count": 24,
     "metadata": {},
     "output_type": "execute_result"
    }
   ],
   "source": [
    "mtrix"
   ]
  },
  {
   "cell_type": "code",
   "execution_count": 25,
   "id": "4eedc3ce",
   "metadata": {},
   "outputs": [
    {
     "data": {
      "text/plain": [
       "array([[1.        , 1.41421356, 1.73205081],\n",
       "       [1.41421356, 1.73205081, 2.        ],\n",
       "       [2.        , 2.23606798, 2.44948974]])"
      ]
     },
     "execution_count": 25,
     "metadata": {},
     "output_type": "execute_result"
    }
   ],
   "source": [
    "np.sqrt(mtrix)"
   ]
  },
  {
   "cell_type": "code",
   "execution_count": null,
   "id": "6155fd64",
   "metadata": {},
   "outputs": [],
   "source": []
  },
  {
   "cell_type": "code",
   "execution_count": null,
   "id": "9c21e696",
   "metadata": {},
   "outputs": [],
   "source": []
  },
  {
   "cell_type": "markdown",
   "id": "d2a4eace",
   "metadata": {
    "id": "40b93eb4",
    "outputId": "29b031b9-340a-46ce-f99a-71e45e965cfc"
   },
   "source": [
    "#### Q6: compute the exponential for each element in the above array\n"
   ]
  },
  {
   "cell_type": "code",
   "execution_count": 26,
   "id": "87533787",
   "metadata": {},
   "outputs": [
    {
     "data": {
      "text/plain": [
       "array([[  2.71828183,   7.3890561 ,  20.08553692],\n",
       "       [  7.3890561 ,  20.08553692,  54.59815003],\n",
       "       [ 54.59815003, 148.4131591 , 403.42879349]])"
      ]
     },
     "execution_count": 26,
     "metadata": {},
     "output_type": "execute_result"
    }
   ],
   "source": [
    "np.exp(mtrix)"
   ]
  },
  {
   "cell_type": "markdown",
   "id": "8293fb48",
   "metadata": {
    "id": "5f553e3a",
    "outputId": "30df687b-b74a-43a5-963d-4a43fa70fbd6"
   },
   "source": [
    "#### Q7: sample 8 elements from uniform dist ([0, 1)\n"
   ]
  },
  {
   "cell_type": "code",
   "execution_count": 28,
   "id": "615b5468",
   "metadata": {},
   "outputs": [
    {
     "data": {
      "text/plain": [
       "array([0.23748736, 0.5706163 , 0.53178622, 0.24264844, 0.93075273,\n",
       "       0.42864001, 0.54691061, 0.88118002])"
      ]
     },
     "execution_count": 28,
     "metadata": {},
     "output_type": "execute_result"
    }
   ],
   "source": [
    "np.random.uniform(0 , 1 , 8)"
   ]
  },
  {
   "cell_type": "markdown",
   "id": "9177dac4",
   "metadata": {},
   "source": [
    "#### Q8: Write a NumPy program to create a vector of length 5 filled with arbitrary integers from 0 to 10."
   ]
  },
  {
   "cell_type": "code",
   "execution_count": 50,
   "id": "c5f4d3ac",
   "metadata": {},
   "outputs": [
    {
     "data": {
      "text/plain": [
       "array([0.76722594, 0.83778766, 0.78257018, 0.83836979, 0.11123933,\n",
       "       0.04504759, 0.77758028, 0.09151119])"
      ]
     },
     "execution_count": 50,
     "metadata": {},
     "output_type": "execute_result"
    }
   ],
   "source": [
    "np.random.rand(8)"
   ]
  },
  {
   "cell_type": "code",
   "execution_count": 32,
   "id": "918a18b2",
   "metadata": {},
   "outputs": [
    {
     "data": {
      "text/plain": [
       "0"
      ]
     },
     "execution_count": 32,
     "metadata": {},
     "output_type": "execute_result"
    }
   ],
   "source": [
    "np.random.randint(3)"
   ]
  },
  {
   "cell_type": "code",
   "execution_count": null,
   "id": "646bfa72",
   "metadata": {},
   "outputs": [],
   "source": [
    "np.random.randint(0 , 10)"
   ]
  },
  {
   "cell_type": "code",
   "execution_count": 46,
   "id": "8e91b2eb",
   "metadata": {},
   "outputs": [
    {
     "name": "stdout",
     "output_type": "stream",
     "text": [
      "[1 0]\n",
      "[1 1]\n",
      "[0 0]\n",
      "[0 0]\n",
      "[1 0]\n",
      "[1 1]\n",
      "[0 0]\n",
      "[1 1]\n",
      "[1 0]\n",
      "[0 0]\n",
      "[1 0]\n",
      "[0 1]\n",
      "[1 1]\n",
      "[1 0]\n",
      "[0 1]\n",
      "[1 0]\n",
      "[1 0]\n",
      "[0 1]\n",
      "[1 0]\n",
      "[0 1]\n",
      "[1 0]\n",
      "[1 1]\n",
      "[0 0]\n",
      "[0 0]\n",
      "[1 0]\n",
      "[1 1]\n",
      "[1 1]\n",
      "[1 0]\n",
      "[0 1]\n",
      "[0 1]\n",
      "[0 0]\n",
      "[0 1]\n",
      "[1 1]\n",
      "[1 1]\n",
      "[1 0]\n",
      "[1 0]\n",
      "[0 1]\n",
      "[1 1]\n",
      "[0 1]\n",
      "[1 0]\n",
      "[1 1]\n",
      "[1 0]\n",
      "[0 1]\n",
      "[1 0]\n",
      "[0 1]\n",
      "[0 1]\n",
      "[0 0]\n",
      "[1 1]\n",
      "[1 1]\n",
      "[0 0]\n",
      "[0 0]\n",
      "[1 0]\n",
      "[0 1]\n",
      "[0 1]\n",
      "[0 0]\n",
      "[1 0]\n",
      "[0 1]\n",
      "[1 1]\n",
      "[1 0]\n",
      "[1 1]\n",
      "[0 1]\n",
      "[1 1]\n",
      "[1 0]\n",
      "[1 0]\n",
      "[1 1]\n",
      "[1 0]\n",
      "[1 0]\n",
      "[1 1]\n",
      "[1 0]\n",
      "[0 0]\n",
      "[1 1]\n",
      "[1 1]\n",
      "[1 0]\n",
      "[1 0]\n",
      "[1 0]\n",
      "[0 1]\n",
      "[0 1]\n",
      "[0 0]\n",
      "[1 1]\n",
      "[1 1]\n",
      "[1 0]\n",
      "[1 1]\n",
      "[1 0]\n",
      "[1 0]\n",
      "[1 1]\n",
      "[1 0]\n",
      "[1 0]\n",
      "[1 1]\n",
      "[0 0]\n",
      "[1 0]\n",
      "[1 1]\n",
      "[1 0]\n",
      "[0 0]\n",
      "[1 0]\n",
      "[1 1]\n",
      "[1 0]\n",
      "[1 0]\n",
      "[0 0]\n",
      "[1 0]\n",
      "[0 0]\n"
     ]
    }
   ],
   "source": [
    "for i in range(100):\n",
    "    print(np.random.randint(0 , 2 , 2))"
   ]
  },
  {
   "cell_type": "markdown",
   "id": "96c6a9f7",
   "metadata": {},
   "source": [
    "#### Q9: Write a NumPy program to create a 3x4 matrix filled with values from 10 to 21"
   ]
  },
  {
   "cell_type": "code",
   "execution_count": 72,
   "id": "9ff4fbcb",
   "metadata": {},
   "outputs": [
    {
     "data": {
      "text/plain": [
       "[range(10, 20)]"
      ]
     },
     "execution_count": 72,
     "metadata": {},
     "output_type": "execute_result"
    }
   ],
   "source": [
    "[range(10 , 20)]"
   ]
  },
  {
   "cell_type": "code",
   "execution_count": 73,
   "id": "9a2ceef2",
   "metadata": {},
   "outputs": [
    {
     "data": {
      "text/plain": [
       "array([[10, 11, 12, 13],\n",
       "       [14, 15, 16, 17],\n",
       "       [18, 19, 20, 21]])"
      ]
     },
     "execution_count": 73,
     "metadata": {},
     "output_type": "execute_result"
    }
   ],
   "source": [
    "np.array(range(10 , 22)).reshape(3 ,4)"
   ]
  },
  {
   "cell_type": "code",
   "execution_count": 59,
   "id": "eddb8a54",
   "metadata": {},
   "outputs": [
    {
     "data": {
      "text/plain": [
       "[1, 2, 3, 4, 5, 6, 7, 8, 9]"
      ]
     },
     "execution_count": 59,
     "metadata": {},
     "output_type": "execute_result"
    }
   ],
   "source": [
    "list(range(1,10))"
   ]
  },
  {
   "cell_type": "code",
   "execution_count": 67,
   "id": "d887e30b",
   "metadata": {},
   "outputs": [
    {
     "data": {
      "text/plain": [
       "array([[10, 11, 12, 13],\n",
       "       [14, 15, 16, 17],\n",
       "       [18, 19, 20, 21]])"
      ]
     },
     "execution_count": 67,
     "metadata": {},
     "output_type": "execute_result"
    }
   ],
   "source": [
    "np.arange(10 ,22).reshape(3,4)"
   ]
  },
  {
   "cell_type": "code",
   "execution_count": 65,
   "id": "c3dc864c",
   "metadata": {},
   "outputs": [
    {
     "data": {
      "text/plain": [
       "array([[19, 11, 21, 10],\n",
       "       [16, 10, 15, 20],\n",
       "       [21, 12, 14, 11]])"
      ]
     },
     "execution_count": 65,
     "metadata": {},
     "output_type": "execute_result"
    }
   ],
   "source": [
    "np.random.randint(10 , 22 , size = (3 ,4))"
   ]
  },
  {
   "cell_type": "markdown",
   "id": "c7e42479",
   "metadata": {},
   "source": [
    "#### Q10: Write a NumPy program to create a vector of length 10 with values evenly distributed between 5 and 50."
   ]
  },
  {
   "cell_type": "code",
   "execution_count": 74,
   "id": "35124c17",
   "metadata": {},
   "outputs": [
    {
     "data": {
      "text/plain": [
       "array([ 5., 10., 15., 20., 25., 30., 35., 40., 45., 50.])"
      ]
     },
     "execution_count": 74,
     "metadata": {},
     "output_type": "execute_result"
    }
   ],
   "source": [
    "np.linspace(5 , 50 , 10)"
   ]
  },
  {
   "cell_type": "code",
   "execution_count": 77,
   "id": "5b837fff",
   "metadata": {},
   "outputs": [
    {
     "data": {
      "text/plain": [
       "array([[ 5.],\n",
       "       [10.],\n",
       "       [15.],\n",
       "       [20.],\n",
       "       [25.],\n",
       "       [30.],\n",
       "       [35.],\n",
       "       [40.],\n",
       "       [45.],\n",
       "       [50.]])"
      ]
     },
     "execution_count": 77,
     "metadata": {},
     "output_type": "execute_result"
    }
   ],
   "source": [
    "np.linspace(5 , 50 , 10).reshape(10 , 1)"
   ]
  },
  {
   "cell_type": "markdown",
   "id": "d617d3d8",
   "metadata": {},
   "source": [
    "#### Q11: Write a NumPy program to create an array of all the even integers from 30 to 70."
   ]
  },
  {
   "cell_type": "code",
   "execution_count": 79,
   "id": "91da5900",
   "metadata": {},
   "outputs": [
    {
     "data": {
      "text/plain": [
       "array([30, 32, 34, 36, 38, 40, 42, 44, 46, 48, 50, 52, 54, 56, 58, 60, 62,\n",
       "       64, 66, 68, 70])"
      ]
     },
     "execution_count": 79,
     "metadata": {},
     "output_type": "execute_result"
    }
   ],
   "source": [
    "np.arange(30 , 71 , 2 )"
   ]
  },
  {
   "cell_type": "markdown",
   "id": "cd373f6d",
   "metadata": {},
   "source": [
    "#### Q12: Write a NumPy program to check whether two arrays are equal (element wise) or not"
   ]
  },
  {
   "cell_type": "code",
   "execution_count": 92,
   "id": "d6d0e66e",
   "metadata": {
    "scrolled": true
   },
   "outputs": [],
   "source": [
    "lst = [2,3,4]\n",
    "lst1 = [2,3,4]"
   ]
  },
  {
   "cell_type": "code",
   "execution_count": 99,
   "id": "8da5d6e9",
   "metadata": {},
   "outputs": [
    {
     "data": {
      "text/plain": [
       "3"
      ]
     },
     "execution_count": 99,
     "metadata": {},
     "output_type": "execute_result"
    }
   ],
   "source": [
    "len(lst)"
   ]
  },
  {
   "cell_type": "code",
   "execution_count": 109,
   "id": "4e76d208",
   "metadata": {},
   "outputs": [
    {
     "name": "stdout",
     "output_type": "stream",
     "text": [
      "=\n"
     ]
    }
   ],
   "source": [
    "i = j = counter = 0\n",
    "while i < len(lst) and lst[i] == lst1[j]:\n",
    "    i += 1 \n",
    "    j += 1 \n",
    "    counter += 1 \n",
    "    \n",
    "    \n",
    "    \n",
    "if counter == len(lst):\n",
    "    print('=')\n",
    "else : \n",
    "    print('!=')"
   ]
  },
  {
   "cell_type": "code",
   "execution_count": 111,
   "id": "51f7c8a9",
   "metadata": {},
   "outputs": [
    {
     "name": "stdout",
     "output_type": "stream",
     "text": [
      "==\n"
     ]
    }
   ],
   "source": [
    "counter = 0\n",
    "if len(lst) == len(lst1):\n",
    "    \n",
    "    for i,j in zip(lst , lst1):\n",
    "\n",
    "        if i == j:\n",
    "            counter += 1 \n",
    "    print('==' if counter == len(lst) else '!=')\n",
    "    \n",
    "    \n",
    "else :\n",
    "    print('!=')\n",
    "    \n",
    "    "
   ]
  },
  {
   "cell_type": "markdown",
   "id": "a27c9647",
   "metadata": {},
   "source": [
    "# search on this line of code "
   ]
  },
  {
   "cell_type": "code",
   "execution_count": 114,
   "id": "f58d5ee1",
   "metadata": {},
   "outputs": [
    {
     "data": {
      "text/plain": [
       "True"
      ]
     },
     "execution_count": 114,
     "metadata": {},
     "output_type": "execute_result"
    }
   ],
   "source": [
    "len(lst) == len(lst1) and all(x == y for x, y in zip(lst, lst1))"
   ]
  },
  {
   "cell_type": "code",
   "execution_count": 112,
   "id": "07a92080",
   "metadata": {},
   "outputs": [],
   "source": [
    "arr = np.array([2,3,4])\n",
    "arr1 = np.array([2,3,4])"
   ]
  },
  {
   "cell_type": "code",
   "execution_count": 113,
   "id": "68e57fa7",
   "metadata": {},
   "outputs": [
    {
     "data": {
      "text/plain": [
       "array([ True,  True,  True])"
      ]
     },
     "execution_count": 113,
     "metadata": {},
     "output_type": "execute_result"
    }
   ],
   "source": [
    "arr == arr1"
   ]
  },
  {
   "cell_type": "code",
   "execution_count": 115,
   "id": "bad65018",
   "metadata": {},
   "outputs": [
    {
     "data": {
      "text/plain": [
       "True"
      ]
     },
     "execution_count": 115,
     "metadata": {},
     "output_type": "execute_result"
    }
   ],
   "source": [
    "np.array_equal(arr , arr1)"
   ]
  },
  {
   "cell_type": "markdown",
   "id": "1bcea8d0",
   "metadata": {
    "id": "1bcea8d0"
   },
   "source": [
    "* further reading: [visit here](https://www.w3resource.com/python-exercises/numpy/index.php)"
   ]
  },
  {
   "cell_type": "code",
   "execution_count": 116,
   "id": "9b0e9ede",
   "metadata": {},
   "outputs": [
    {
     "data": {
      "text/plain": [
       "array([[28, 30, 79, 90, 90, 71, 68, 72, 79, 91],\n",
       "       [33, 15, 46, 87, 66, 16, 86, 63, 56, 40],\n",
       "       [45, 58, 90, 10, 36, 38, 88, 89, 96, 83],\n",
       "       [71, 19, 92, 35, 21, 84, 27, 32, 71, 51],\n",
       "       [23, 58, 58, 83, 82, 93, 45, 64, 79, 77],\n",
       "       [81, 60, 13, 77, 57, 11, 50, 70, 11, 82],\n",
       "       [85, 89, 62, 29, 19, 81, 10, 14, 64, 77],\n",
       "       [94, 16, 55, 11, 71, 45, 43, 30, 98, 39],\n",
       "       [76, 97, 60, 24, 45, 68, 57, 53, 21, 59],\n",
       "       [34, 35, 61, 35, 22, 38, 75, 40, 35, 43]])"
      ]
     },
     "execution_count": 116,
     "metadata": {},
     "output_type": "execute_result"
    }
   ],
   "source": [
    "np.load('matrix.npy')"
   ]
  },
  {
   "cell_type": "code",
   "execution_count": null,
   "id": "fad6f202",
   "metadata": {},
   "outputs": [],
   "source": []
  },
  {
   "cell_type": "code",
   "execution_count": null,
   "id": "fc226291",
   "metadata": {},
   "outputs": [],
   "source": []
  }
 ],
 "metadata": {
  "colab": {
   "name": "Numpy Assignment Epsilon.ipynb",
   "provenance": []
  },
  "kernelspec": {
   "display_name": "Python 3 (ipykernel)",
   "language": "python",
   "name": "python3"
  },
  "language_info": {
   "codemirror_mode": {
    "name": "ipython",
    "version": 3
   },
   "file_extension": ".py",
   "mimetype": "text/x-python",
   "name": "python",
   "nbconvert_exporter": "python",
   "pygments_lexer": "ipython3",
   "version": "3.10.4"
  }
 },
 "nbformat": 4,
 "nbformat_minor": 5
}
